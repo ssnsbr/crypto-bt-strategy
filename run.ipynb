{
 "cells": [
  {
   "cell_type": "code",
   "execution_count": null,
   "id": "42d53a5b",
   "metadata": {},
   "outputs": [],
   "source": [
    "import os\n",
    "import pandas as pd\n",
    "\n",
    "from sizers.ScalperMartingaleSizer import ScalperMartingaleSizer\n",
    "from strategies.FastScalperStrategy import FastScalperStrategy\n",
    "from strategies.FiboMartingaleStrategy import FiboMartingaleStrategy\n",
    "from utils.data_utils import ready_df\n",
    "from utils.runner import run_all  # Import pandas for data preparation\n"
   ]
  },
  {
   "cell_type": "code",
   "execution_count": null,
   "id": "8af9affa",
   "metadata": {},
   "outputs": [],
   "source": [
    "\n",
    "folder_path = 'I:\\\\axiomchart\\\\'\n",
    "# List all CSV files\n",
    "csv_files = [folder_path + f for f in os.listdir(folder_path) if f.endswith('.csv')]\n",
    "print(f\"Found {len(csv_files)} CSV files.\")\n",
    "print(csv_files[0])\n",
    "\n",
    "print(ready_df(pd.read_csv(csv_files[2]), True).head(2))\n",
    "\n",
    "df = pd.read_csv(csv_files[2])\n",
    "\n",
    "df = ready_df(df)\n",
    "print(df.head())\n",
    "\n",
    "df.head()\n"
   ]
  },
  {
   "cell_type": "code",
   "execution_count": null,
   "id": "90369247",
   "metadata": {},
   "outputs": [],
   "source": [
    "\n",
    "# sizer_params = {\"initial_buy_amount_factor\":strategy_class.params.initial_buy_amount_factor,  # buggy, it reads default values of strategy_class\n",
    "#                  \"martingale_multiplier\":strategy_class.params.martingale_multiplier,  # buggy, it reads default values of strategy_class\n",
    "#                  \"data_in_market_cap\": mcap,\n",
    "#                  \"log\":sizer_log}\n",
    "mcap = True\n",
    "log = True\n",
    "sizer_log = True\n",
    "strategy_class = FastScalperStrategy\n",
    "strategy_params = {'data_in_market_cap': mcap, \"log\": log}\n",
    "sizer_class = ScalperMartingaleSizer\n",
    "sizer_params = {\n",
    "    \"initial_buy_amount_factor\": strategy_params.get('initial_buy_amount_factor', 0.05),\n",
    "    \"martingale_multiplier\": strategy_params.get('martingale_multiplier', 2.0),\n",
    "    \"data_in_market_cap\": mcap,\n",
    "    \"log\": sizer_log\n",
    "}\n",
    "all_results_df, all_cerebros_objects, all_portfolio_histories = run_all([folder_path + \"15s_axiom_chart_bars_Ekv9HdumWqnXZgq5G6ge6bk1ZRHKXYC2WnSFL94sQmLJ_1752166201266.csv\"],\n",
    "                                                                        sizer_class=sizer_class,\n",
    "                                                                        strategy_class=strategy_class,\n",
    "                                                                        strategy_params=strategy_params,\n",
    "                                                                        sizer_params=sizer_params,\n",
    "                                                                        cash=1000,\n",
    "                                                                        commission=0.1,\n",
    "                                                                        mcap=mcap,\n",
    "                                                                        )\n",
    "# if __name__ == '__main__':\n",
    "# Step 1: Run all backtests\n",
    "# all_results_df, all_cerebros_objects, all_portfolio_histories = run_all(csv_files[:10], FiboMartingaleStrategy, 10, 0.1, mcap=True, log=True, sizer_log=True)\n"
   ]
  },
  {
   "cell_type": "code",
   "execution_count": null,
   "id": "750b3a61",
   "metadata": {},
   "outputs": [],
   "source": [
    "\n",
    "\n",
    "# Step 2: Display the aggregated results DataFrame\n",
    "g = all_results_df[all_results_df[\"start_value\"] < all_results_df[\"final_value\"]]\n",
    "print(f\"{len(g)} of {len(all_results_df)} were profitable!\")\n",
    "print(g)\n",
    "print(\"\\n--- Aggregated Backtest Results ---\")\n",
    "\n",
    "all_results_df\n"
   ]
  },
  {
   "cell_type": "code",
   "execution_count": null,
   "id": "ab2d8578",
   "metadata": {},
   "outputs": [],
   "source": [
    "\n",
    "import matplotlib.pyplot as plt\n",
    "plt.rcParams['figure.figsize'] = [18, 20]  # Adjust as desired\n",
    "plt.rcParams['figure.dpi'] = 100\n",
    "# The %matplotlib inline is for Jupyter/Colab environment and should be run directly in a cell,\n",
    "# For a script, you manage matplotlib output differently (e.g., plt.savefig)\n",
    "# %matplotlib inline\n",
    "\n",
    "# Step 3: Plot all portfolio histories on one chart\n",
    "plot_all_portfolio_histories_by_time(all_portfolio_histories, title=\"Portfolio Value Over Time for All Coins\")\n",
    "plot_all_portfolio_histories(all_portfolio_histories, title=\"Portfolio Value Over Time for All Coins\")\n"
   ]
  },
  {
   "cell_type": "code",
   "execution_count": null,
   "id": "0a27d8c6",
   "metadata": {},
   "outputs": [],
   "source": [
    "\n",
    "# Step 4: Select an interesting backtest and plot it\n",
    "# You can choose based on 'sharpe_ratio', 'final_value', etc.\n",
    "# For example, let's plot the coin with the highest final value\n",
    "best_coin_row = all_results_df.loc[all_results_df['final_value'].idxmax()]\n",
    "best_coin_name = best_coin_row['coin']\n",
    "\n",
    "print(f\"\\n--- Plotting best performing coin: {best_coin_name} ---\")\n",
    "if best_coin_name in all_cerebros_objects:\n",
    "    plot_single_backtest(all_cerebros_objects[best_coin_name], title=f\"Backtest for {best_coin_name}\")\n",
    "else:\n",
    "    print(f\"Cerebro object for {best_coin_name} not found.\")\n",
    "\n",
    "# You can also manually select a coin to plot, e.g.:\n",
    "# plot_single_backtest(all_cerebros_objects['coin_0'], title=\"Backtest for coin_0\")\n"
   ]
  }
 ],
 "metadata": {
  "kernelspec": {
   "display_name": "Python 3",
   "language": "python",
   "name": "python3"
  },
  "language_info": {
   "name": "python",
   "version": "3.9.0"
  }
 },
 "nbformat": 4,
 "nbformat_minor": 5
}
